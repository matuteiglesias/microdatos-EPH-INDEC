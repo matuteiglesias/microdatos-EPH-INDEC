{
 "cells": [
  {
   "cell_type": "code",
   "execution_count": 1,
   "metadata": {},
   "outputs": [],
   "source": [
    "### FECHAS DE ACTUALIZACION DE MICRODATOS\n",
    "\n",
    "## 2021Q3: 12-02-2022 (135 days)\n",
    "\n",
    "## 2021Q4: 14-05-2022 (134 days)\n",
    "\n",
    "## 2022Q1: 05-08-2022 (127 days)\n",
    "\n",
    "## 2022Q2: 05-11-2022 (127 days)"
   ]
  },
  {
   "cell_type": "code",
   "execution_count": 2,
   "metadata": {},
   "outputs": [],
   "source": [
    "        \n",
    "from itertools import product\n",
    "from pathlib import Path\n",
    "import zipfile\n",
    "import requests\n",
    "\n",
    "import urllib\n",
    "import os\n",
    "import shutil"
   ]
  },
  {
   "cell_type": "code",
   "execution_count": 3,
   "metadata": {},
   "outputs": [
    {
     "name": "stdout",
     "output_type": "stream",
     "text": [
      "[(2023, 3), (2023, 2), (2023, 1), (2022, 4), (2022, 3)]\n"
     ]
    }
   ],
   "source": [
    "from datetime import datetime, timedelta\n",
    "\n",
    "def generate_quarter_list(num_quarters):\n",
    "    current_year = datetime.now().year\n",
    "    current_quarter = (datetime.now().month - 1) // 3 + 1\n",
    "    quarter_list = [(current_year, current_quarter)]\n",
    "    while len(quarter_list) < num_quarters:\n",
    "        current_quarter -= 1\n",
    "        if current_quarter == 0:\n",
    "            current_year -= 1\n",
    "            current_quarter = 4\n",
    "        quarter_list.append((current_year, current_quarter))\n",
    "    return quarter_list\n",
    "\n",
    "# Example usage\n",
    "print(generate_quarter_list(5))"
   ]
  },
  {
   "cell_type": "code",
   "execution_count": 4,
   "metadata": {},
   "outputs": [
    {
     "data": {
      "text/plain": [
       "['EPH_usu_3_Trim_2023_txt.zip',\n",
       " 'EPH_usu_2_Trim_2023_txt.zip',\n",
       " 'EPH_usu_1_Trim_2023_txt.zip',\n",
       " 'EPH_usu_4_Trim_2022_txt.zip',\n",
       " 'EPH_usu_3_Trim_2022_txt.zip']"
      ]
     },
     "execution_count": 4,
     "metadata": {},
     "output_type": "execute_result"
    }
   ],
   "source": [
    "\n",
    "# Obtain the data from the URLs\n",
    "url_front = 'https://www.indec.gob.ar/ftp/cuadros/menusuperior/eph/'\n",
    "extract_dir = Path('microdatos')\n",
    "\n",
    "# Generate a list of file names to download\n",
    "file_names = [f\"EPH_usu_{Q}_Trim_{y}_txt.zip\" for y, Q in generate_quarter_list(5)]\n",
    "file_names\n",
    "\n",
    "## Estos son los archivos recientes. No significa que esten disponibles."
   ]
  },
  {
   "cell_type": "code",
   "execution_count": 6,
   "metadata": {},
   "outputs": [
    {
     "name": "stdout",
     "output_type": "stream",
     "text": [
      "microdatos/EPH_usu_3_Trim_2023_txt.zip\n",
      "EPH_usu_3_Trim_2023_txt.zip\n",
      "\tFILE SIZE                               : 0.04 MB\n",
      "microdatos/EPH_usu_2_Trim_2023_txt.zip\n",
      "EPH_usu_2_Trim_2023_txt.zip\n",
      "\tFILE SIZE                               : 0.04 MB\n",
      "microdatos/EPH_usu_1_Trim_2023_txt.zip\n",
      "EPH_usu_1_Trim_2023_txt.zip\n",
      "\tFILE SIZE                               : 0.04 MB\n",
      "microdatos/EPH_usu_4_Trim_2022_txt.zip\n",
      "EPH_usu_4_Trim_2022_txt.zip\n",
      "\tFILE SIZE                               : 2.66 MB\n",
      "microdatos/EPH_usu_3_Trim_2022_txt.zip\n",
      "EPH_usu_3_Trim_2022_txt.zip\n",
      "\tFILE SIZE                               : 3.30 MB\n"
     ]
    }
   ],
   "source": [
    "\n",
    "# Download and extract the files\n",
    "for file_name in file_names:\n",
    "    full_file = extract_dir / file_name\n",
    "    print(full_file)\n",
    "\n",
    "    # Open the file and retrieve its size\n",
    "    with urllib.request.urlopen(url_front + file_name) as response:\n",
    "        size = int(response.info().get('Content-Length', -1))\n",
    "        size_MB = size / float(1 << 20)\n",
    "    \n",
    "    # Check the size of the response. If it is not large, it means the file is not uploaded\n",
    "    print(file_name)\n",
    "    print('\\t{:<40}: {:.2f} MB'.format('FILE SIZE', size_MB))\n",
    "\n",
    "    # Download the zip file\n",
    "    if size_MB > 0.5:  # If the file is uploaded\n",
    "        if not full_file.is_file():  # If it doesn't already exist\n",
    "            # Download the file from the URL\n",
    "            response = requests.get(url_front + file_name)\n",
    "            open(full_file, 'wb').write(response.content)\n",
    "\n",
    "            # Open the zip file\n",
    "            with zipfile.ZipFile(full_file, 'r') as zip_obj:\n",
    "                # Extract the files to the extract_dir directory\n",
    "                zip_obj.extractall(extract_dir)\n",
    "                \n",
    "                # Get a list of the extracted file names\n",
    "                ext_file_names = zip_obj.namelist()\n",
    "                \n",
    "                for txt in ext_file_names:\n",
    "                    # For each of the files (exclude extracted directories)\n",
    "                    extracted_txt = extract_dir.joinpath(txt)\n",
    "                    if os.path.isfile(extracted_txt):\n",
    "                        \n",
    "                        ## Fix buggy file names\n",
    "                        if Path(txt).name.endswith('.txt.txt'):\n",
    "                            name, ext = os.path.splitext(txt) # split the last .txt from the name\n",
    "                        else:\n",
    "                            name = txt # it's ok\n",
    "\n",
    "                        ## Send extracted txt files to their respective folder \n",
    "                        \n",
    "                        if 'hogar' in txt:\n",
    "                            dest_subdir = extract_dir.joinpath('hogar')\n",
    "                        elif 'indiv' in txt:\n",
    "                            dest_subdir = extract_dir.joinpath('individual')\n",
    "\n",
    "                        shutil.move(extracted_txt, dest_subdir.joinpath(Path(name).name.lower()))"
   ]
  },
  {
   "cell_type": "code",
   "execution_count": null,
   "metadata": {},
   "outputs": [],
   "source": [
    "# EPH_usu_4_Trim_2022_txt.zip\n",
    "# EPH_usu_3er_Trim_2022_txt"
   ]
  },
  {
   "cell_type": "code",
   "execution_count": 7,
   "metadata": {},
   "outputs": [],
   "source": [
    "### Clean by removing all empty folders which are not needed anymore\n",
    "\n",
    "# Use the `listdir()` function to get a list of all the subdirectories in the parent directory\n",
    "parent_dir = './microdatos/'\n",
    "subdirs = [d for d in os.listdir(parent_dir) if os.path.isdir(os.path.join(parent_dir, d))]\n",
    "\n",
    "# Iterate over the subdirectories and check if they are empty\n",
    "empty_subdirs = []\n",
    "for subdir in subdirs:\n",
    "    subdir_path = os.path.join(parent_dir, subdir)\n",
    "    if not os.listdir(subdir_path):  # The directory is empty if `os.listdir()` returns an empty list\n",
    "        empty_subdirs.append(subdir_path)\n",
    "        \n",
    "        \n",
    "for dir_ in empty_subdirs: os.rmdir(dir_)"
   ]
  },
  {
   "cell_type": "code",
   "execution_count": null,
   "metadata": {},
   "outputs": [],
   "source": [
    "# # Ejemplo pagina de data que no fue subida\n",
    "# 'https://www.indec.gob.ar/ftp/cuadros/menusuperior/eph/EPH_usu_3_Trim_2023_txt.zip'"
   ]
  }
 ],
 "metadata": {
  "kernelspec": {
   "display_name": "Python 3",
   "language": "python",
   "name": "python3"
  },
  "language_info": {
   "codemirror_mode": {
    "name": "ipython",
    "version": 3
   },
   "file_extension": ".py",
   "mimetype": "text/x-python",
   "name": "python",
   "nbconvert_exporter": "python",
   "pygments_lexer": "ipython3",
   "version": "3.11.3"
  }
 },
 "nbformat": 4,
 "nbformat_minor": 4
}
