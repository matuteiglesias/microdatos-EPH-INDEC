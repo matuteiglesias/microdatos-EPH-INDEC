{
 "cells": [
  {
   "cell_type": "code",
   "execution_count": 1,
   "metadata": {},
   "outputs": [],
   "source": [
    "import os\n",
    "import urllib.request as request\n",
    "\n",
    "# pip install pyunpack\n",
    "# from pyunpack import Archive\n",
    "from zipfile import ZipFile\n",
    "# Nos va a pedir:\n",
    "# pip install patool\n",
    "\n",
    "import sys\n",
    "import requests"
   ]
  },
  {
   "cell_type": "code",
   "execution_count": 2,
   "metadata": {},
   "outputs": [],
   "source": [
    "def unzip(source_filename, dest_dir):\n",
    "    with ZipFile(source_filename) as zf:\n",
    "        zf.extractall(dest_dir)"
   ]
  },
  {
   "cell_type": "code",
   "execution_count": 3,
   "metadata": {},
   "outputs": [],
   "source": [
    "# import urllib.request as request\n",
    "\n",
    "# # Obtaining the data from the URL's\n",
    "# url_front = 'https://www.indec.gob.ar/ftp/cuadros/menusuperior/eph/'\n",
    "# file_name = 'EPH_usu_4_Trim_2021_txt.zip'\n",
    "\n",
    "# print(url_front + file_name)\n",
    "\n",
    "# request.urlopen(url_front + file_name).read()"
   ]
  },
  {
   "cell_type": "code",
   "execution_count": 4,
   "metadata": {},
   "outputs": [],
   "source": [
    "from pathlib import Path\n",
    "\n",
    "current_files = []\n",
    "working_dir = Path()\n",
    "for path in working_dir.glob(\"**/*.txt\"):\n",
    "    # filenames\n",
    "    current_files += [path.stem]"
   ]
  },
  {
   "cell_type": "code",
   "execution_count": 20,
   "metadata": {},
   "outputs": [],
   "source": [
    "import datetime\n",
    "now = datetime.datetime.now()"
   ]
  },
  {
   "cell_type": "code",
   "execution_count": 19,
   "metadata": {},
   "outputs": [
    {
     "name": "stdout",
     "output_type": "stream",
     "text": [
      "/home/miglesia/repositories/microdatos-EPH-INDEC/microdatos/EPH_usu_1_Trim_2020_txt.zip\n",
      "EPH_usu_1_Trim_2020_txt.zip\n",
      "\tFILE SIZE                               : 2.67 MB\n",
      "['usu_individual_t120', 'usu_hogar_t120']\n",
      "/home/miglesia/repositories/microdatos-EPH-INDEC/microdatos/EPH_usu_2_Trim_2020_txt.zip\n",
      "EPH_usu_2_Trim_2020_txt.zip\n",
      "\tFILE SIZE                               : 1.82 MB\n",
      "['usu_individual_t220', 'usu_hogar_t220']\n",
      "/home/miglesia/repositories/microdatos-EPH-INDEC/microdatos/EPH_usu_3_Trim_2020_txt.zip\n",
      "EPH_usu_3_Trim_2020_txt.zip\n",
      "\tFILE SIZE                               : 1.96 MB\n",
      "['usu_individual_t320', 'usu_hogar_t320']\n",
      "/home/miglesia/repositories/microdatos-EPH-INDEC/microdatos/EPH_usu_4_Trim_2020_txt.zip\n",
      "EPH_usu_4_Trim_2020_txt.zip\n",
      "\tFILE SIZE                               : 2.69 MB\n",
      "['usu_hogar_t420', 'usu_individual_t420']\n",
      "/home/miglesia/repositories/microdatos-EPH-INDEC/microdatos/EPH_usu_1_Trim_2021_txt.zip\n",
      "EPH_usu_1_Trim_2021_txt.zip\n",
      "\tFILE SIZE                               : 2.46 MB\n",
      "['eph_usu_1_trim_2021_txt', 'usu_hogar_t121', 'usu_individual_t121']\n",
      "/home/miglesia/repositories/microdatos-EPH-INDEC/microdatos/EPH_usu_2_Trim_2021_txt.zip\n",
      "EPH_usu_2_Trim_2021_txt.zip\n",
      "\tFILE SIZE                               : 0.01 MB\n",
      "/home/miglesia/repositories/microdatos-EPH-INDEC/microdatos/EPH_usu_3_Trim_2021_txt.zip\n",
      "EPH_usu_3_Trim_2021_txt.zip\n",
      "\tFILE SIZE                               : 0.01 MB\n",
      "/home/miglesia/repositories/microdatos-EPH-INDEC/microdatos/EPH_usu_4_Trim_2021_txt.zip\n",
      "EPH_usu_4_Trim_2021_txt.zip\n",
      "\tFILE SIZE                               : 0.01 MB\n"
     ]
    }
   ],
   "source": [
    "# Obtaining the data from the URL's\n",
    "url_front = 'https://www.indec.gob.ar/ftp/cuadros/menusuperior/eph/'\n",
    "\n",
    "## Carpeta donde quedaran los datos\n",
    "extract_dir = 'microdatos/'\n",
    "\n",
    "for y in range(now.year - 1, now.year + 1):\n",
    "    for Q in range(1, 5):\n",
    "        file_name = 'EPH_usu_'+str(Q)+'_Trim_'+str(y)+'_txt.zip' # Funciona de 2017 en adelante\n",
    "        full_file = os.path.join(os.getcwd(), extract_dir, file_name)\n",
    "        print(full_file)\n",
    "\n",
    "        response = requests.head(url_front + file_name, allow_redirects=True)\n",
    "        size = response.headers.get('content-length', -1)\n",
    "        size_MB = int(size) / float(1 << 20)\n",
    "        \n",
    "        ## Verificar tamano de la respuesta. Si no es pesada es porque el archivo no esta subido\n",
    "        print(file_name)\n",
    "        print('\\t{:<40}: {:.2f} MB'.format('FILE SIZE', size_MB))\n",
    "\n",
    "        # Descargar el rar\n",
    "        if size_MB > 0.5: # Si el archivo esta subido\n",
    "            if not os.path.isfile(full_file): # si aun no existe.\n",
    "                # Si no esta el directorio lo crea\n",
    "                if not os.path.exists(extract_dir):\n",
    "                    os.makedirs(extract_dir)\n",
    "\n",
    "                # Toma data del URL\n",
    "                request.urlretrieve(url_front + file_name, full_file)\n",
    "\n",
    "                # Archive(full_file).extractall(extract_dir)\n",
    "                with ZipFile(full_file, 'r') as zipObj:\n",
    "                   # Get list of files names in zip\n",
    "                    listOfiles = zipObj.namelist()\n",
    "                \n",
    "                new_files = [Path(file).stem.lower() for file in listOfiles]\n",
    "                print(new_files)\n",
    "                \n",
    "                if all(item in current_files for item in new_files): # If files already present\n",
    "                    os.remove(full_file) # Remove the zip\n",
    "                else: \n",
    "                    unzip(full_file, extract_dir) # Extract\n",
    "                    \n",
    "                    ## Move extracted files to their place, and apply lowercase.\n",
    "                    extracted_folder = extract_dir + Path(full_file).stem\n",
    "                    for file in os.listdir(extracted_folder):\n",
    "                        current_file_name = '/'.join([extracted_folder, file])\n",
    "                        if 'hogar' in file:\n",
    "                            dest_dir = extract_dir + '/hogar/'\n",
    "                        elif 'indiv' in file:\n",
    "                            dest_dir = extract_dir + '/individual/'\n",
    "\n",
    "                        new_name = Path(current_file_name).stem.lower() + '.txt'\n",
    "                        os.rename(current_file_name, os.path.join(dest_dir, new_name))\n",
    "\n",
    "                    os.rmdir(extracted_folder) # remove folder\n",
    "                    os.remove(full_file) # Remove the zip\n"
   ]
  },
  {
   "cell_type": "code",
   "execution_count": null,
   "metadata": {},
   "outputs": [],
   "source": [
    "# Pagina de data que no fue subida\n",
    "'https://www.indec.gob.ar/ftp/cuadros/menusuperior/eph/EPH_usu_3_Trim_2021_txt.zip'"
   ]
  }
 ],
 "metadata": {
  "kernelspec": {
   "display_name": "Python 3",
   "language": "python",
   "name": "python3"
  },
  "language_info": {
   "codemirror_mode": {
    "name": "ipython",
    "version": 3
   },
   "file_extension": ".py",
   "mimetype": "text/x-python",
   "name": "python",
   "nbconvert_exporter": "python",
   "pygments_lexer": "ipython3",
   "version": "3.8.5"
  }
 },
 "nbformat": 4,
 "nbformat_minor": 4
}
